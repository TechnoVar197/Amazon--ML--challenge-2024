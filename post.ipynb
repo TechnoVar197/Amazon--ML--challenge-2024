{
 "cells": [
  {
   "cell_type": "code",
   "execution_count": 1,
   "metadata": {},
   "outputs": [],
   "source": [
    "import os \n",
    "import shutil\n",
    "import pandas as pd"
   ]
  },
  {
   "cell_type": "code",
   "execution_count": 3,
   "metadata": {},
   "outputs": [],
   "source": [
    "test_df = pd.read_csv('dataset/sample.csv')\n",
    "output_df = pd.read_csv('test_out.csv')"
   ]
  },
  {
   "cell_type": "code",
   "execution_count": 5,
   "metadata": {},
   "outputs": [],
   "source": [
    "# Ensure 'index' is in columns\n",
    "if 'index' not in test_df.columns:\n",
    "    test_df.reset_index(inplace=True)\n",
    "    test_df.rename(columns={'index': 'index'}, inplace=True)"
   ]
  },
  {
   "cell_type": "code",
   "execution_count": 6,
   "metadata": {},
   "outputs": [
    {
     "name": "stdout",
     "output_type": "stream",
     "text": [
      "Accuracy: 4.52%\n"
     ]
    }
   ],
   "source": [
    "# Merge predictions with actual values\n",
    "result_df = test_df.merge(output_df, on='index', how='left')\n",
    "\n",
    "# Calculate accuracy\n",
    "correct = result_df['entity_value'] == result_df['prediction']\n",
    "accuracy = correct.sum() / len(correct)\n",
    "print(f\"Accuracy: {accuracy:.2%}\")\n"
   ]
  },
  {
   "cell_type": "code",
   "execution_count": 7,
   "metadata": {},
   "outputs": [],
   "source": [
    "\n",
    "parent = \"D:/Pfiles/Amazon HAckthon\"\n",
    "dir = \"test_images\"\n",
    "path = os.path.join(parent, dir)"
   ]
  },
  {
   "cell_type": "code",
   "execution_count": 8,
   "metadata": {},
   "outputs": [
    {
     "name": "stdout",
     "output_type": "stream",
     "text": [
      "Zip archive of directory created.\n"
     ]
    }
   ],
   "source": [
    "# Name of the output zip file\n",
    "output_filename = 'test'\n",
    "\n",
    "# Create a zip archive\n",
    "shutil.make_archive(output_filename, 'zip', path)\n",
    "print('Zip archive of directory created.')"
   ]
  },
  {
   "cell_type": "code",
   "execution_count": 11,
   "metadata": {},
   "outputs": [
    {
     "name": "stdout",
     "output_type": "stream",
     "text": [
      "File 'D:/Pfiles/Amazon HAckthon\\test.zip' has been removed successfully\n"
     ]
    }
   ],
   "source": [
    "import os\n",
    "out = 'test.zip'\n",
    "path_z= os.path.join(parent,out)\n",
    "try:\n",
    "    os.remove(path_z)\n",
    "    print(\"File '% s' has been removed successfully\" % path_z)\n",
    "except OSError as error:\n",
    "    print(error)\n",
    "    print(\"File'% s' can not be removed\" % path_z)"
   ]
  },
  {
   "cell_type": "code",
   "execution_count": 10,
   "metadata": {},
   "outputs": [
    {
     "name": "stdout",
     "output_type": "stream",
     "text": [
      "Directory 'test_images' has been removed successfully\n"
     ]
    }
   ],
   "source": [
    "try:\n",
    "    shutil.rmtree(path)\n",
    "    print(\"Directory '% s' has been removed successfully\" % dir)\n",
    "except OSError as error:\n",
    "    print(error)\n",
    "    print(\"Directory '% s' can not be removed\" % dir)"
   ]
  },
  {
   "cell_type": "code",
   "execution_count": null,
   "metadata": {},
   "outputs": [],
   "source": []
  }
 ],
 "metadata": {
  "kernelspec": {
   "display_name": "base",
   "language": "python",
   "name": "python3"
  },
  "language_info": {
   "codemirror_mode": {
    "name": "ipython",
    "version": 3
   },
   "file_extension": ".py",
   "mimetype": "text/x-python",
   "name": "python",
   "nbconvert_exporter": "python",
   "pygments_lexer": "ipython3",
   "version": "3.12.4"
  }
 },
 "nbformat": 4,
 "nbformat_minor": 2
}
