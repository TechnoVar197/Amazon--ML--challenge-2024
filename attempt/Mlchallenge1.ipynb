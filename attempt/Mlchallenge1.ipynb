{
 "cells": [
  {
   "cell_type": "code",
   "execution_count": 1,
   "metadata": {},
   "outputs": [],
   "source": [
    "import pandas as pd\n",
    "import os\n",
    "import re\n",
    "import logging\n",
    "from src.utils import download_images, parse_string\n",
    "from src.sanity import sanity_check\n",
    "from src.constants import entity_unit_map\n",
    "import easyocr"
   ]
  },
  {
   "cell_type": "code",
   "execution_count": 2,
   "metadata": {},
   "outputs": [
    {
     "name": "stderr",
     "output_type": "stream",
     "text": [
      "Neither CUDA nor MPS are available - defaulting to CPU. Note: This module is much faster with a GPU.\n",
      "c:\\Users\\Aniruddha\\anaconda3\\Lib\\site-packages\\easyocr\\detection.py:78: FutureWarning: You are using `torch.load` with `weights_only=False` (the current default value), which uses the default pickle module implicitly. It is possible to construct malicious pickle data which will execute arbitrary code during unpickling (See https://github.com/pytorch/pytorch/blob/main/SECURITY.md#untrusted-models for more details). In a future release, the default value for `weights_only` will be flipped to `True`. This limits the functions that could be executed during unpickling. Arbitrary objects will no longer be allowed to be loaded via this mode unless they are explicitly allowlisted by the user via `torch.serialization.add_safe_globals`. We recommend you start setting `weights_only=True` for any use case where you don't have full control of the loaded file. Please open an issue on GitHub for any issues related to this experimental feature.\n",
      "  net.load_state_dict(copyStateDict(torch.load(trained_model, map_location=device)))\n",
      "c:\\Users\\Aniruddha\\anaconda3\\Lib\\site-packages\\easyocr\\recognition.py:169: FutureWarning: You are using `torch.load` with `weights_only=False` (the current default value), which uses the default pickle module implicitly. It is possible to construct malicious pickle data which will execute arbitrary code during unpickling (See https://github.com/pytorch/pytorch/blob/main/SECURITY.md#untrusted-models for more details). In a future release, the default value for `weights_only` will be flipped to `True`. This limits the functions that could be executed during unpickling. Arbitrary objects will no longer be allowed to be loaded via this mode unless they are explicitly allowlisted by the user via `torch.serialization.add_safe_globals`. We recommend you start setting `weights_only=True` for any use case where you don't have full control of the loaded file. Please open an issue on GitHub for any issues related to this experimental feature.\n",
      "  state_dict = torch.load(model_path, map_location=device)\n"
     ]
    }
   ],
   "source": [
    "reader = easyocr.Reader(['en'])"
   ]
  },
  {
   "cell_type": "code",
   "execution_count": 3,
   "metadata": {},
   "outputs": [],
   "source": [
    "train_file = 'dataset/train.csv'\n",
    "train_df = pd.read_csv(train_file)"
   ]
  },
  {
   "cell_type": "code",
   "execution_count": 4,
   "metadata": {},
   "outputs": [
    {
     "name": "stdout",
     "output_type": "stream",
     "text": [
      "Directory downloaded_images already exists.\n"
     ]
    }
   ],
   "source": [
    "image_folder = 'downloaded_images'\n",
    "# Check if the image folder exists, if not, create it\n",
    "if not os.path.exists(image_folder):\n",
    "    os.makedirs(image_folder)\n",
    "    print(f\"Directory {image_folder} created.\")\n",
    "else:\n",
    "    print(f\"Directory {image_folder} already exists.\")"
   ]
  },
  {
   "cell_type": "code",
   "execution_count": 5,
   "metadata": {},
   "outputs": [],
   "source": [
    "test_file = 'dataset/test.csv'  # Replace with the correct path to test.csv\n",
    "test_df = pd.read_csv(test_file)"
   ]
  },
  {
   "cell_type": "code",
   "execution_count": 6,
   "metadata": {},
   "outputs": [
    {
     "name": "stderr",
     "output_type": "stream",
     "text": [
      "Exception in thread Thread-5 (_handle_workers):\n",
      "Traceback (most recent call last):\n",
      "  File \"c:\\Users\\Aniruddha\\anaconda3\\Lib\\threading.py\", line 1073, in _bootstrap_inner\n",
      "    self.run()\n",
      "  File \"c:\\Users\\Aniruddha\\anaconda3\\Lib\\threading.py\", line 1010, in run\n",
      "    self._target(*self._args, **self._kwargs)\n",
      "  File \"c:\\Users\\Aniruddha\\anaconda3\\Lib\\multiprocessing\\pool.py\", line 522, in _handle_workers\n",
      "  0%|          | 0/263859 [00:00<?, ?it/s]    cls._wait_for_updates(current_sentinels, change_notifier)\n",
      "  File \"c:\\Users\\Aniruddha\\anaconda3\\Lib\\multiprocessing\\pool.py\", line 502, in _wait_for_updates\n",
      "    wait(sentinels, timeout=timeout)\n",
      "  File \"c:\\Users\\Aniruddha\\anaconda3\\Lib\\multiprocessing\\connection.py\", line 1084, in wait\n",
      "    ready_handles = _exhaustive_wait(waithandle_to_obj.keys(), timeout)\n",
      "                    ^^^^^^^^^^^^^^^^^^^^^^^^^^^^^^^^^^^^^^^^^^^^^^^^^^^\n",
      "  File \"c:\\Users\\Aniruddha\\anaconda3\\Lib\\multiprocessing\\connection.py\", line 1016, in _exhaustive_wait\n",
      "    res = _winapi.WaitForMultipleObjects(L, False, timeout)\n",
      "          ^^^^^^^^^^^^^^^^^^^^^^^^^^^^^^^^^^^^^^^^^^^^^^^^^\n",
      "ValueError: need at most 63 handles, got a sequence of length 66\n",
      " 79%|███████▉  | 208917/263859 [2:35:07<1:39:16,  9.22it/s] "
     ]
    }
   ],
   "source": [
    "download_images(train_df['image_link'].tolist(), image_folder)\n"
   ]
  },
  {
   "cell_type": "code",
   "execution_count": 8,
   "metadata": {},
   "outputs": [],
   "source": [
    "def extract_entity_value(image_path, entity_name):\n",
    "    try:\n",
    "        # Load image and apply OCR using EasyOCR\n",
    "        result = reader.readtext(image_path, detail=0)\n",
    "        extracted_text = ' '.join(result)\n",
    "        \n",
    "        # Log extracted text for debugging\n",
    "        logging.debug(f\"Extracted Text from {image_path}: {extracted_text}\")\n",
    "        \n",
    "        # Extract the entity value using simple text search based on the entity name\n",
    "        entity_value = None\n",
    "        for entity in entity_unit_map[entity_name]:\n",
    "            if entity in extracted_text:\n",
    "                entity_value = entity\n",
    "                break\n",
    "        # If entity_value found, extract numerical value\n",
    "        if entity_value:\n",
    "            # Extract the first numerical value found in the text\n",
    "            number = re.findall(r'\\d+\\.\\d+|\\d+', extracted_text)\n",
    "            if number:\n",
    "                return f\"{number[0]} {entity_value}\"\n",
    "            else:\n",
    "                logging.error(f\"No number found for {entity_name} in {image_path}\")\n",
    "        else:\n",
    "            logging.error(f\"No matching entity for {entity_name} in {image_path}\")\n",
    "    finally:\n",
    "        # If no value found, return an empty string\n",
    "        return \"\""
   ]
  },
  {
   "cell_type": "code",
   "execution_count": 9,
   "metadata": {},
   "outputs": [],
   "source": [
    "# Predict the entity values for each test image\n",
    "predictions = []\n",
    "for idx, row in train_df.iterrows():\n",
    "    image_path = os.path.join(image_folder, os.path.basename(row['image_link']))\n",
    "    entity_name = row['entity_name']\n",
    "    \n",
    "    if os.path.exists(image_path):\n",
    "        prediction = extract_entity_value(image_path, entity_name)\n",
    "    else:\n",
    "        prediction = \"\"\n",
    "    \n",
    "    predictions.append(prediction)\n"
   ]
  },
  {
   "cell_type": "code",
   "execution_count": 10,
   "metadata": {},
   "outputs": [],
   "source": [
    "# Create the output DataFrame\n",
    "output_df = pd.DataFrame({\n",
    "    'index': train_df['index'],\n",
    "    'prediction': predictions\n",
    "})"
   ]
  },
  {
   "cell_type": "code",
   "execution_count": null,
   "metadata": {},
   "outputs": [],
   "source": [
    "output_df.head()"
   ]
  },
  {
   "cell_type": "code",
   "execution_count": null,
   "metadata": {},
   "outputs": [],
   "source": [
    "output_file = 'predictions.csv'\n",
    "output_df.to_csv(output_file, index=False)"
   ]
  },
  {
   "cell_type": "code",
   "execution_count": null,
   "metadata": {},
   "outputs": [],
   "source": [
    "# Run the sanity check\n",
    "sanity_check(test_file, output_file)"
   ]
  }
 ],
 "metadata": {
  "kernelspec": {
   "display_name": "base",
   "language": "python",
   "name": "python3"
  },
  "language_info": {
   "codemirror_mode": {
    "name": "ipython",
    "version": 3
   },
   "file_extension": ".py",
   "mimetype": "text/x-python",
   "name": "python",
   "nbconvert_exporter": "python",
   "pygments_lexer": "ipython3",
   "version": "3.12.4"
  }
 },
 "nbformat": 4,
 "nbformat_minor": 2
}
